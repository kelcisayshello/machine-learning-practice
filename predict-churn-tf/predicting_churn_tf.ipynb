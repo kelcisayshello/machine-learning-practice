{
 "cells": [
  {
   "cell_type": "markdown",
   "metadata": {},
   "source": [
    "# Predicting Churn using Tensorflow"
   ]
  },
  {
   "cell_type": "markdown",
   "metadata": {},
   "source": [
    "## [1] import churn data"
   ]
  },
  {
   "cell_type": "code",
   "execution_count": 2,
   "metadata": {},
   "outputs": [],
   "source": [
    "import pandas as pd\n",
    "from sklearn.model_selection import train_test_split\n",
    "import numpy as np\n",
    "\n",
    "churn_df = pd.read_csv('sample-churn.csv')\n",
    "X = pd.get_dummies(churn_df.drop(['Churn', 'Customer ID'], axis=1))\n",
    "target_y = churn_df['Churn'].apply(lambda x: 1 if x=='Yes' else 0)"
   ]
  },
  {
   "cell_type": "markdown",
   "metadata": {},
   "source": [
    "## [2] create training and test data set\n",
    "The `train_test_split()` function plit your existing dataset into training and testing sets. The `0.2` parameter determines that 20% of your original dataset will be reserved for the testing set. The remaining 80% will be used as the training set"
   ]
  },
  {
   "cell_type": "code",
   "execution_count": 3,
   "metadata": {},
   "outputs": [
    {
     "data": {
      "text/plain": [
       "3311    1\n",
       "5387    0\n",
       "4608    0\n",
       "3902    0\n",
       "771     0\n",
       "Name: Churn, dtype: int64"
      ]
     },
     "execution_count": 3,
     "metadata": {},
     "output_type": "execute_result"
    }
   ],
   "source": [
    "x_train, x_test, y_train, y_test = train_test_split(X, target_y, test_size=0.2)\n",
    "y_train.head()"
   ]
  },
  {
   "cell_type": "markdown",
   "metadata": {},
   "source": [
    "## [3] import tensorflow dependencies"
   ]
  },
  {
   "cell_type": "code",
   "execution_count": 4,
   "metadata": {},
   "outputs": [
    {
     "name": "stderr",
     "output_type": "stream",
     "text": [
      "/Users/kelcimensah/Library/Python/3.9/lib/python/site-packages/urllib3/__init__.py:35: NotOpenSSLWarning: urllib3 v2 only supports OpenSSL 1.1.1+, currently the 'ssl' module is compiled with 'LibreSSL 2.8.3'. See: https://github.com/urllib3/urllib3/issues/3020\n",
      "  warnings.warn(\n"
     ]
    }
   ],
   "source": [
    "from tensorflow.keras.models import Sequential, load_model\n",
    "from tensorflow.keras.layers import Dense\n",
    "from sklearn.metrics import accuracy_score"
   ]
  },
  {
   "cell_type": "markdown",
   "metadata": {},
   "source": [
    "## [4] build and compile model\n",
    "An activation function is a mathematical function which determines whether, and to what extent, a neuron should \"fire\" an output signal."
   ]
  },
  {
   "cell_type": "code",
   "execution_count": 5,
   "metadata": {},
   "outputs": [],
   "source": [
    "model = Sequential()\n",
    "model.add(Dense(units=32, activation='relu', input_dim=len(x_train.columns)))\n",
    "model.add(Dense(units=64, activation='relu'))\n",
    "model.add(Dense(units=1, activation='sigmoid'))\n",
    "model.compile(loss='binary_crossentropy', optimizer='sgd', metrics='accuracy')"
   ]
  },
  {
   "cell_type": "markdown",
   "metadata": {},
   "source": [
    "## [5] fit data, predict, and evaluate model\n",
    "For machine learning, you are looking for the loss value to decrease and the accuracy value to increase"
   ]
  },
  {
   "cell_type": "code",
   "execution_count": 6,
   "metadata": {
    "collapsed": true
   },
   "outputs": [
    {
     "name": "stdout",
     "output_type": "stream",
     "text": [
      "Epoch 1/200\n",
      "177/177 [==============================] - 0s 1ms/step - loss: 0.5203 - accuracy: 0.7476\n",
      "Epoch 2/200\n",
      "177/177 [==============================] - 0s 961us/step - loss: 0.4867 - accuracy: 0.7721\n",
      "Epoch 3/200\n",
      "177/177 [==============================] - 0s 928us/step - loss: 0.4810 - accuracy: 0.7759\n",
      "Epoch 4/200\n",
      "177/177 [==============================] - 0s 941us/step - loss: 0.4762 - accuracy: 0.7789\n",
      "Epoch 5/200\n",
      "177/177 [==============================] - 0s 926us/step - loss: 0.4747 - accuracy: 0.7796\n",
      "Epoch 6/200\n",
      "177/177 [==============================] - 0s 935us/step - loss: 0.4716 - accuracy: 0.7778\n",
      "Epoch 7/200\n",
      "177/177 [==============================] - 0s 933us/step - loss: 0.4682 - accuracy: 0.7810\n",
      "Epoch 8/200\n",
      "177/177 [==============================] - 0s 940us/step - loss: 0.4674 - accuracy: 0.7764\n",
      "Epoch 9/200\n",
      "177/177 [==============================] - 0s 934us/step - loss: 0.4660 - accuracy: 0.7833\n",
      "Epoch 10/200\n",
      "177/177 [==============================] - 0s 1ms/step - loss: 0.4631 - accuracy: 0.7851\n",
      "Epoch 11/200\n",
      "177/177 [==============================] - 0s 928us/step - loss: 0.4627 - accuracy: 0.7839\n",
      "Epoch 12/200\n",
      "177/177 [==============================] - 0s 908us/step - loss: 0.4610 - accuracy: 0.7824\n",
      "Epoch 13/200\n",
      "177/177 [==============================] - 0s 927us/step - loss: 0.4601 - accuracy: 0.7858\n",
      "Epoch 14/200\n",
      "177/177 [==============================] - 0s 892us/step - loss: 0.4596 - accuracy: 0.7817\n",
      "Epoch 15/200\n",
      "177/177 [==============================] - 0s 939us/step - loss: 0.4590 - accuracy: 0.7844\n",
      "Epoch 16/200\n",
      "177/177 [==============================] - 0s 956us/step - loss: 0.4587 - accuracy: 0.7847\n",
      "Epoch 17/200\n",
      "177/177 [==============================] - 0s 916us/step - loss: 0.4568 - accuracy: 0.7824\n",
      "Epoch 18/200\n",
      "177/177 [==============================] - 0s 899us/step - loss: 0.4550 - accuracy: 0.7854\n",
      "Epoch 19/200\n",
      "177/177 [==============================] - 0s 911us/step - loss: 0.4564 - accuracy: 0.7828\n",
      "Epoch 20/200\n",
      "177/177 [==============================] - 0s 918us/step - loss: 0.4552 - accuracy: 0.7847\n",
      "Epoch 21/200\n",
      "177/177 [==============================] - 0s 917us/step - loss: 0.4552 - accuracy: 0.7847\n",
      "Epoch 22/200\n",
      "177/177 [==============================] - 0s 879us/step - loss: 0.4525 - accuracy: 0.7833\n",
      "Epoch 23/200\n",
      "177/177 [==============================] - 0s 930us/step - loss: 0.4524 - accuracy: 0.7883\n",
      "Epoch 24/200\n",
      "177/177 [==============================] - 0s 894us/step - loss: 0.4526 - accuracy: 0.7844\n",
      "Epoch 25/200\n",
      "177/177 [==============================] - 0s 888us/step - loss: 0.4523 - accuracy: 0.7883\n",
      "Epoch 26/200\n",
      "177/177 [==============================] - 0s 896us/step - loss: 0.4519 - accuracy: 0.7862\n",
      "Epoch 27/200\n",
      "177/177 [==============================] - 0s 927us/step - loss: 0.4520 - accuracy: 0.7853\n",
      "Epoch 28/200\n",
      "177/177 [==============================] - 0s 954us/step - loss: 0.4554 - accuracy: 0.7846\n",
      "Epoch 29/200\n",
      "177/177 [==============================] - 0s 929us/step - loss: 0.4510 - accuracy: 0.7906\n",
      "Epoch 30/200\n",
      "177/177 [==============================] - 0s 896us/step - loss: 0.4559 - accuracy: 0.7808\n",
      "Epoch 31/200\n",
      "177/177 [==============================] - 0s 904us/step - loss: 0.4496 - accuracy: 0.7870\n",
      "Epoch 32/200\n",
      "177/177 [==============================] - 0s 886us/step - loss: 0.4507 - accuracy: 0.7839\n",
      "Epoch 33/200\n",
      "177/177 [==============================] - 0s 898us/step - loss: 0.4515 - accuracy: 0.7865\n",
      "Epoch 34/200\n",
      "177/177 [==============================] - 0s 881us/step - loss: 0.4489 - accuracy: 0.7904\n",
      "Epoch 35/200\n",
      "177/177 [==============================] - 0s 890us/step - loss: 0.4488 - accuracy: 0.7886\n",
      "Epoch 36/200\n",
      "177/177 [==============================] - 0s 911us/step - loss: 0.4486 - accuracy: 0.7892\n",
      "Epoch 37/200\n",
      "177/177 [==============================] - 0s 902us/step - loss: 0.4455 - accuracy: 0.7860\n",
      "Epoch 38/200\n",
      "177/177 [==============================] - 0s 899us/step - loss: 0.4463 - accuracy: 0.7865\n",
      "Epoch 39/200\n",
      "177/177 [==============================] - 0s 884us/step - loss: 0.4494 - accuracy: 0.7876\n",
      "Epoch 40/200\n",
      "177/177 [==============================] - 0s 910us/step - loss: 0.4500 - accuracy: 0.7885\n",
      "Epoch 41/200\n",
      "177/177 [==============================] - 0s 893us/step - loss: 0.4505 - accuracy: 0.7837\n",
      "Epoch 42/200\n",
      "177/177 [==============================] - 0s 884us/step - loss: 0.4482 - accuracy: 0.7876\n",
      "Epoch 43/200\n",
      "177/177 [==============================] - 0s 874us/step - loss: 0.4493 - accuracy: 0.7854\n",
      "Epoch 44/200\n",
      "177/177 [==============================] - 0s 886us/step - loss: 0.4475 - accuracy: 0.7906\n",
      "Epoch 45/200\n",
      "177/177 [==============================] - 0s 1ms/step - loss: 0.4454 - accuracy: 0.7860\n",
      "Epoch 46/200\n",
      "177/177 [==============================] - 0s 912us/step - loss: 0.4435 - accuracy: 0.7888\n",
      "Epoch 47/200\n",
      "177/177 [==============================] - 0s 948us/step - loss: 0.4490 - accuracy: 0.7867\n",
      "Epoch 48/200\n",
      "177/177 [==============================] - 0s 939us/step - loss: 0.4451 - accuracy: 0.7895\n",
      "Epoch 49/200\n",
      "177/177 [==============================] - 0s 962us/step - loss: 0.4451 - accuracy: 0.7909\n",
      "Epoch 50/200\n",
      "177/177 [==============================] - 0s 913us/step - loss: 0.4474 - accuracy: 0.7920\n",
      "Epoch 51/200\n",
      "177/177 [==============================] - 0s 937us/step - loss: 0.4447 - accuracy: 0.7867\n",
      "Epoch 52/200\n",
      "177/177 [==============================] - 0s 918us/step - loss: 0.4449 - accuracy: 0.7899\n",
      "Epoch 53/200\n",
      "177/177 [==============================] - 0s 945us/step - loss: 0.4467 - accuracy: 0.7888\n",
      "Epoch 54/200\n",
      "177/177 [==============================] - 0s 939us/step - loss: 0.4467 - accuracy: 0.7904\n",
      "Epoch 55/200\n",
      "177/177 [==============================] - 0s 945us/step - loss: 0.4467 - accuracy: 0.7934\n",
      "Epoch 56/200\n",
      "177/177 [==============================] - 0s 1ms/step - loss: 0.4447 - accuracy: 0.7897\n",
      "Epoch 57/200\n",
      "177/177 [==============================] - 0s 951us/step - loss: 0.4621 - accuracy: 0.7768\n",
      "Epoch 58/200\n",
      "177/177 [==============================] - 0s 951us/step - loss: 0.4477 - accuracy: 0.7902\n",
      "Epoch 59/200\n",
      "177/177 [==============================] - 0s 977us/step - loss: 0.4459 - accuracy: 0.7899\n",
      "Epoch 60/200\n",
      "177/177 [==============================] - 0s 903us/step - loss: 0.4458 - accuracy: 0.7924\n",
      "Epoch 61/200\n",
      "177/177 [==============================] - 0s 920us/step - loss: 0.4444 - accuracy: 0.7918\n",
      "Epoch 62/200\n",
      "177/177 [==============================] - 0s 1ms/step - loss: 0.4429 - accuracy: 0.7899\n",
      "Epoch 63/200\n",
      "177/177 [==============================] - 0s 922us/step - loss: 0.4422 - accuracy: 0.7881\n",
      "Epoch 64/200\n",
      "177/177 [==============================] - 0s 918us/step - loss: 0.4409 - accuracy: 0.7894\n",
      "Epoch 65/200\n",
      "177/177 [==============================] - 0s 1ms/step - loss: 0.4423 - accuracy: 0.7906\n",
      "Epoch 66/200\n",
      "177/177 [==============================] - 0s 947us/step - loss: 0.4391 - accuracy: 0.7918\n",
      "Epoch 67/200\n",
      "177/177 [==============================] - 0s 950us/step - loss: 0.4393 - accuracy: 0.7881\n",
      "Epoch 68/200\n",
      "177/177 [==============================] - 0s 948us/step - loss: 0.4418 - accuracy: 0.7876\n",
      "Epoch 69/200\n",
      "177/177 [==============================] - 0s 934us/step - loss: 0.4404 - accuracy: 0.7925\n",
      "Epoch 70/200\n",
      "177/177 [==============================] - 0s 938us/step - loss: 0.4431 - accuracy: 0.7883\n",
      "Epoch 71/200\n",
      "177/177 [==============================] - 0s 956us/step - loss: 0.4406 - accuracy: 0.7869\n",
      "Epoch 72/200\n",
      "177/177 [==============================] - 0s 957us/step - loss: 0.4397 - accuracy: 0.7908\n",
      "Epoch 73/200\n",
      "177/177 [==============================] - 0s 989us/step - loss: 0.4401 - accuracy: 0.7895\n",
      "Epoch 74/200\n",
      "177/177 [==============================] - 0s 935us/step - loss: 0.4391 - accuracy: 0.7885\n",
      "Epoch 75/200\n",
      "177/177 [==============================] - 0s 931us/step - loss: 0.4392 - accuracy: 0.7931\n",
      "Epoch 76/200\n",
      "177/177 [==============================] - 0s 953us/step - loss: 0.4386 - accuracy: 0.7911\n",
      "Epoch 77/200\n",
      "177/177 [==============================] - 0s 947us/step - loss: 0.4393 - accuracy: 0.7918\n",
      "Epoch 78/200\n",
      "177/177 [==============================] - 0s 949us/step - loss: 0.4402 - accuracy: 0.7918\n",
      "Epoch 79/200\n",
      "177/177 [==============================] - 0s 1ms/step - loss: 0.4392 - accuracy: 0.7897\n",
      "Epoch 80/200\n",
      "177/177 [==============================] - 0s 946us/step - loss: 0.4372 - accuracy: 0.7918\n",
      "Epoch 81/200\n",
      "177/177 [==============================] - 0s 934us/step - loss: 0.4377 - accuracy: 0.7909\n",
      "Epoch 82/200\n",
      "177/177 [==============================] - 0s 1ms/step - loss: 0.4410 - accuracy: 0.7892\n",
      "Epoch 83/200\n",
      "177/177 [==============================] - 0s 1ms/step - loss: 0.4362 - accuracy: 0.7941\n",
      "Epoch 84/200\n",
      "177/177 [==============================] - 0s 1ms/step - loss: 0.4364 - accuracy: 0.7968\n",
      "Epoch 85/200\n",
      "177/177 [==============================] - 0s 1ms/step - loss: 0.4381 - accuracy: 0.7922\n",
      "Epoch 86/200\n",
      "177/177 [==============================] - 0s 986us/step - loss: 0.4375 - accuracy: 0.7940\n",
      "Epoch 87/200\n",
      "177/177 [==============================] - 0s 979us/step - loss: 0.4371 - accuracy: 0.7899\n",
      "Epoch 88/200\n",
      "177/177 [==============================] - 0s 1ms/step - loss: 0.4360 - accuracy: 0.7901\n",
      "Epoch 89/200\n",
      "177/177 [==============================] - 0s 1ms/step - loss: 0.4370 - accuracy: 0.7920\n",
      "Epoch 90/200\n",
      "177/177 [==============================] - 0s 1ms/step - loss: 0.4361 - accuracy: 0.7909\n",
      "Epoch 91/200\n",
      "177/177 [==============================] - 0s 1ms/step - loss: 0.4379 - accuracy: 0.7938\n",
      "Epoch 92/200\n",
      "177/177 [==============================] - 0s 1ms/step - loss: 0.4373 - accuracy: 0.7945\n",
      "Epoch 93/200\n",
      "177/177 [==============================] - 0s 1ms/step - loss: 0.4360 - accuracy: 0.7901\n",
      "Epoch 94/200\n",
      "177/177 [==============================] - 0s 1ms/step - loss: 0.4373 - accuracy: 0.7911\n",
      "Epoch 95/200\n",
      "177/177 [==============================] - 0s 1ms/step - loss: 0.4336 - accuracy: 0.7911\n",
      "Epoch 96/200\n",
      "177/177 [==============================] - 0s 952us/step - loss: 0.4341 - accuracy: 0.7949\n",
      "Epoch 97/200\n",
      "177/177 [==============================] - 0s 985us/step - loss: 0.4386 - accuracy: 0.7908\n",
      "Epoch 98/200\n",
      "177/177 [==============================] - 0s 947us/step - loss: 0.4337 - accuracy: 0.7947\n",
      "Epoch 99/200\n",
      "177/177 [==============================] - 0s 961us/step - loss: 0.4364 - accuracy: 0.7904\n",
      "Epoch 100/200\n",
      "177/177 [==============================] - 0s 988us/step - loss: 0.4345 - accuracy: 0.7920\n",
      "Epoch 101/200\n",
      "177/177 [==============================] - 0s 999us/step - loss: 0.4370 - accuracy: 0.7993\n",
      "Epoch 102/200\n",
      "177/177 [==============================] - 0s 951us/step - loss: 0.4349 - accuracy: 0.7949\n",
      "Epoch 103/200\n",
      "177/177 [==============================] - 0s 954us/step - loss: 0.4380 - accuracy: 0.7949\n",
      "Epoch 104/200\n",
      "177/177 [==============================] - 0s 953us/step - loss: 0.4324 - accuracy: 0.7986\n",
      "Epoch 105/200\n",
      "177/177 [==============================] - 0s 960us/step - loss: 0.4354 - accuracy: 0.7970\n",
      "Epoch 106/200\n",
      "177/177 [==============================] - 0s 1ms/step - loss: 0.4358 - accuracy: 0.7927\n",
      "Epoch 107/200\n",
      "177/177 [==============================] - 0s 1ms/step - loss: 0.4335 - accuracy: 0.7940\n",
      "Epoch 108/200\n",
      "177/177 [==============================] - 0s 1ms/step - loss: 0.4330 - accuracy: 0.7920\n",
      "Epoch 109/200\n",
      "177/177 [==============================] - 0s 932us/step - loss: 0.4321 - accuracy: 0.7973\n",
      "Epoch 110/200\n",
      "177/177 [==============================] - 0s 915us/step - loss: 0.4382 - accuracy: 0.7924\n",
      "Epoch 111/200\n",
      "177/177 [==============================] - 0s 950us/step - loss: 0.4357 - accuracy: 0.7977\n",
      "Epoch 112/200\n",
      "177/177 [==============================] - 0s 1ms/step - loss: 0.4339 - accuracy: 0.7980\n",
      "Epoch 113/200\n",
      "177/177 [==============================] - 0s 991us/step - loss: 0.4353 - accuracy: 0.7950\n",
      "Epoch 114/200\n",
      "177/177 [==============================] - 0s 969us/step - loss: 0.4317 - accuracy: 0.7945\n",
      "Epoch 115/200\n",
      "177/177 [==============================] - 0s 956us/step - loss: 0.4350 - accuracy: 0.7920\n",
      "Epoch 116/200\n",
      "177/177 [==============================] - 0s 955us/step - loss: 0.4313 - accuracy: 0.7943\n",
      "Epoch 117/200\n",
      "177/177 [==============================] - 0s 942us/step - loss: 0.4335 - accuracy: 0.7973\n",
      "Epoch 118/200\n",
      "177/177 [==============================] - 0s 998us/step - loss: 0.4345 - accuracy: 0.7936\n",
      "Epoch 119/200\n",
      "177/177 [==============================] - 0s 1ms/step - loss: 0.4345 - accuracy: 0.7965\n",
      "Epoch 120/200\n",
      "177/177 [==============================] - 0s 1ms/step - loss: 0.4335 - accuracy: 0.7936\n",
      "Epoch 121/200\n",
      "177/177 [==============================] - 0s 949us/step - loss: 0.4298 - accuracy: 0.7961\n",
      "Epoch 122/200\n",
      "177/177 [==============================] - 0s 924us/step - loss: 0.4330 - accuracy: 0.7957\n",
      "Epoch 123/200\n",
      "177/177 [==============================] - 0s 929us/step - loss: 0.4306 - accuracy: 0.7959\n",
      "Epoch 124/200\n",
      "177/177 [==============================] - 0s 950us/step - loss: 0.4325 - accuracy: 0.7947\n",
      "Epoch 125/200\n",
      "177/177 [==============================] - 0s 1ms/step - loss: 0.4354 - accuracy: 0.7957\n",
      "Epoch 126/200\n",
      "177/177 [==============================] - 0s 916us/step - loss: 0.4310 - accuracy: 0.7968\n",
      "Epoch 127/200\n",
      "177/177 [==============================] - 0s 932us/step - loss: 0.4298 - accuracy: 0.7952\n",
      "Epoch 128/200\n",
      "177/177 [==============================] - 0s 944us/step - loss: 0.4321 - accuracy: 0.7945\n",
      "Epoch 129/200\n",
      "177/177 [==============================] - 0s 936us/step - loss: 0.4301 - accuracy: 0.7973\n",
      "Epoch 130/200\n",
      "177/177 [==============================] - 0s 931us/step - loss: 0.4325 - accuracy: 0.7943\n",
      "Epoch 131/200\n",
      "177/177 [==============================] - 0s 993us/step - loss: 0.4306 - accuracy: 0.8016\n",
      "Epoch 132/200\n",
      "177/177 [==============================] - 0s 1ms/step - loss: 0.4295 - accuracy: 0.7972\n",
      "Epoch 133/200\n",
      "177/177 [==============================] - 0s 935us/step - loss: 0.4310 - accuracy: 0.7975\n",
      "Epoch 134/200\n",
      "177/177 [==============================] - 0s 923us/step - loss: 0.4311 - accuracy: 0.7943\n",
      "Epoch 135/200\n",
      "177/177 [==============================] - 0s 931us/step - loss: 0.4335 - accuracy: 0.7963\n",
      "Epoch 136/200\n",
      "177/177 [==============================] - 0s 922us/step - loss: 0.4294 - accuracy: 0.7980\n",
      "Epoch 137/200\n",
      "177/177 [==============================] - 0s 920us/step - loss: 0.4292 - accuracy: 0.7979\n",
      "Epoch 138/200\n",
      "177/177 [==============================] - 0s 917us/step - loss: 0.4297 - accuracy: 0.7922\n",
      "Epoch 139/200\n",
      "177/177 [==============================] - 0s 908us/step - loss: 0.4302 - accuracy: 0.7991\n",
      "Epoch 140/200\n",
      "177/177 [==============================] - 0s 929us/step - loss: 0.4306 - accuracy: 0.7938\n",
      "Epoch 141/200\n",
      "177/177 [==============================] - 0s 928us/step - loss: 0.4276 - accuracy: 0.8028\n",
      "Epoch 142/200\n",
      "177/177 [==============================] - 0s 923us/step - loss: 0.4309 - accuracy: 0.7970\n",
      "Epoch 143/200\n",
      "177/177 [==============================] - 0s 924us/step - loss: 0.4326 - accuracy: 0.7954\n",
      "Epoch 144/200\n",
      "177/177 [==============================] - 0s 915us/step - loss: 0.4316 - accuracy: 0.7945\n",
      "Epoch 145/200\n",
      "177/177 [==============================] - 0s 927us/step - loss: 0.4318 - accuracy: 0.7979\n",
      "Epoch 146/200\n",
      "177/177 [==============================] - 0s 942us/step - loss: 0.4300 - accuracy: 0.7965\n",
      "Epoch 147/200\n",
      "177/177 [==============================] - 0s 918us/step - loss: 0.4291 - accuracy: 0.7995\n",
      "Epoch 148/200\n",
      "177/177 [==============================] - 0s 914us/step - loss: 0.4289 - accuracy: 0.7979\n",
      "Epoch 149/200\n",
      "177/177 [==============================] - 0s 1ms/step - loss: 0.4295 - accuracy: 0.7950\n",
      "Epoch 150/200\n",
      "177/177 [==============================] - 0s 916us/step - loss: 0.4297 - accuracy: 0.7977\n",
      "Epoch 151/200\n",
      "177/177 [==============================] - 0s 915us/step - loss: 0.4262 - accuracy: 0.8007\n",
      "Epoch 152/200\n",
      "177/177 [==============================] - 0s 917us/step - loss: 0.4278 - accuracy: 0.7993\n",
      "Epoch 153/200\n",
      "177/177 [==============================] - 0s 919us/step - loss: 0.4276 - accuracy: 0.7984\n",
      "Epoch 154/200\n",
      "177/177 [==============================] - 0s 931us/step - loss: 0.4288 - accuracy: 0.7956\n",
      "Epoch 155/200\n",
      "177/177 [==============================] - 0s 931us/step - loss: 0.4298 - accuracy: 0.7991\n",
      "Epoch 156/200\n",
      "177/177 [==============================] - 0s 937us/step - loss: 0.4293 - accuracy: 0.7966\n",
      "Epoch 157/200\n",
      "177/177 [==============================] - 0s 918us/step - loss: 0.4277 - accuracy: 0.7998\n",
      "Epoch 158/200\n",
      "177/177 [==============================] - 0s 923us/step - loss: 0.4283 - accuracy: 0.7984\n",
      "Epoch 159/200\n",
      "177/177 [==============================] - 0s 917us/step - loss: 0.4268 - accuracy: 0.7988\n",
      "Epoch 160/200\n",
      "177/177 [==============================] - 0s 911us/step - loss: 0.4278 - accuracy: 0.7979\n",
      "Epoch 161/200\n",
      "177/177 [==============================] - 0s 921us/step - loss: 0.4282 - accuracy: 0.7984\n",
      "Epoch 162/200\n",
      "177/177 [==============================] - 0s 919us/step - loss: 0.4277 - accuracy: 0.7980\n",
      "Epoch 163/200\n",
      "177/177 [==============================] - 0s 925us/step - loss: 0.4286 - accuracy: 0.8007\n",
      "Epoch 164/200\n",
      "177/177 [==============================] - 0s 917us/step - loss: 0.4285 - accuracy: 0.7991\n",
      "Epoch 165/200\n",
      "177/177 [==============================] - 0s 929us/step - loss: 0.4293 - accuracy: 0.7973\n",
      "Epoch 166/200\n",
      "177/177 [==============================] - 0s 905us/step - loss: 0.4255 - accuracy: 0.7975\n",
      "Epoch 167/200\n",
      "177/177 [==============================] - 0s 914us/step - loss: 0.4306 - accuracy: 0.7972\n",
      "Epoch 168/200\n",
      "177/177 [==============================] - 0s 920us/step - loss: 0.4264 - accuracy: 0.8000\n",
      "Epoch 169/200\n",
      "177/177 [==============================] - 0s 1ms/step - loss: 0.4277 - accuracy: 0.7973\n",
      "Epoch 170/200\n",
      "177/177 [==============================] - 0s 921us/step - loss: 0.4266 - accuracy: 0.7982\n",
      "Epoch 171/200\n",
      "177/177 [==============================] - 0s 926us/step - loss: 0.4278 - accuracy: 0.8004\n",
      "Epoch 172/200\n",
      "177/177 [==============================] - 0s 883us/step - loss: 0.4295 - accuracy: 0.8025\n",
      "Epoch 173/200\n",
      "177/177 [==============================] - 0s 885us/step - loss: 0.4263 - accuracy: 0.7966\n",
      "Epoch 174/200\n",
      "177/177 [==============================] - 0s 898us/step - loss: 0.4320 - accuracy: 0.7915\n",
      "Epoch 175/200\n",
      "177/177 [==============================] - 0s 890us/step - loss: 0.4267 - accuracy: 0.7996\n",
      "Epoch 176/200\n",
      "177/177 [==============================] - 0s 924us/step - loss: 0.4277 - accuracy: 0.8000\n",
      "Epoch 177/200\n",
      "177/177 [==============================] - 0s 913us/step - loss: 0.4251 - accuracy: 0.8005\n",
      "Epoch 178/200\n",
      "177/177 [==============================] - 0s 951us/step - loss: 0.4263 - accuracy: 0.8027\n",
      "Epoch 179/200\n",
      "177/177 [==============================] - 0s 914us/step - loss: 0.4303 - accuracy: 0.7979\n",
      "Epoch 180/200\n",
      "177/177 [==============================] - 0s 919us/step - loss: 0.4284 - accuracy: 0.8012\n",
      "Epoch 181/200\n",
      "177/177 [==============================] - 0s 909us/step - loss: 0.4278 - accuracy: 0.7979\n",
      "Epoch 182/200\n",
      "177/177 [==============================] - 0s 914us/step - loss: 0.4287 - accuracy: 0.8005\n",
      "Epoch 183/200\n",
      "177/177 [==============================] - 0s 925us/step - loss: 0.4253 - accuracy: 0.7950\n",
      "Epoch 184/200\n",
      "177/177 [==============================] - 0s 916us/step - loss: 0.4258 - accuracy: 0.7977\n",
      "Epoch 185/200\n",
      "177/177 [==============================] - 0s 906us/step - loss: 0.4267 - accuracy: 0.7970\n",
      "Epoch 186/200\n",
      "177/177 [==============================] - 0s 912us/step - loss: 0.4281 - accuracy: 0.7950\n",
      "Epoch 187/200\n",
      "177/177 [==============================] - 0s 917us/step - loss: 0.4278 - accuracy: 0.7975\n",
      "Epoch 188/200\n",
      "177/177 [==============================] - 0s 920us/step - loss: 0.4255 - accuracy: 0.7979\n",
      "Epoch 189/200\n",
      "177/177 [==============================] - 0s 1ms/step - loss: 0.4300 - accuracy: 0.8004\n",
      "Epoch 190/200\n",
      "177/177 [==============================] - 0s 961us/step - loss: 0.4288 - accuracy: 0.7970\n",
      "Epoch 191/200\n",
      "177/177 [==============================] - 0s 1ms/step - loss: 0.4246 - accuracy: 0.7995\n",
      "Epoch 192/200\n",
      "177/177 [==============================] - 0s 1ms/step - loss: 0.4255 - accuracy: 0.7956\n",
      "Epoch 193/200\n",
      "177/177 [==============================] - 0s 1ms/step - loss: 0.4281 - accuracy: 0.7989\n",
      "Epoch 194/200\n",
      "177/177 [==============================] - 0s 995us/step - loss: 0.4268 - accuracy: 0.7970\n",
      "Epoch 195/200\n",
      "177/177 [==============================] - 0s 994us/step - loss: 0.4274 - accuracy: 0.8014\n",
      "Epoch 196/200\n",
      "177/177 [==============================] - 0s 965us/step - loss: 0.4260 - accuracy: 0.7988\n",
      "Epoch 197/200\n",
      "177/177 [==============================] - 0s 946us/step - loss: 0.4262 - accuracy: 0.7959\n",
      "Epoch 198/200\n",
      "177/177 [==============================] - 0s 967us/step - loss: 0.4243 - accuracy: 0.7995\n",
      "Epoch 199/200\n",
      "177/177 [==============================] - 0s 1ms/step - loss: 0.4243 - accuracy: 0.7949\n",
      "Epoch 200/200\n",
      "177/177 [==============================] - 0s 1ms/step - loss: 0.4249 - accuracy: 0.7996\n"
     ]
    },
    {
     "data": {
      "text/plain": [
       "<keras.src.callbacks.History at 0x3252caa00>"
      ]
     },
     "execution_count": 6,
     "metadata": {},
     "output_type": "execute_result"
    }
   ],
   "source": [
    "model.fit(np.asarray(x_train).astype('float32'), np.asarray(y_train).astype('float32'), epochs=200, batch_size=32)"
   ]
  },
  {
   "cell_type": "code",
   "execution_count": 7,
   "metadata": {},
   "outputs": [
    {
     "name": "stdout",
     "output_type": "stream",
     "text": [
      "45/45 [==============================] - 0s 649us/step\n"
     ]
    }
   ],
   "source": [
    "y_hat = model.predict(np.asarray(x_test).astype('float32'))\n",
    "y_hat = [0 if val < 0.5 else 1 for val in y_hat]"
   ]
  },
  {
   "cell_type": "markdown",
   "metadata": {},
   "source": [
    "## [6] calculate model prediction accuracy\n",
    "The `accuracy_score()` function calculates the accuracy score of a machine learning model's predictions. It's a way of evaluating how well your model performs on a testing dataset.\n",
    "* If the accuracy is too low (below 70% or 0.70), then it might be best to continue to train the model longer(use 500 epochs rather than 200) or use some regularization."
   ]
  },
  {
   "cell_type": "code",
   "execution_count": 8,
   "metadata": {},
   "outputs": [
    {
     "data": {
      "text/plain": [
       "0.8005677785663591"
      ]
     },
     "execution_count": 8,
     "metadata": {},
     "output_type": "execute_result"
    }
   ],
   "source": [
    "accuracy_score(y_test, y_hat)"
   ]
  },
  {
   "cell_type": "markdown",
   "metadata": {},
   "source": [
    "## [7] save tensorflow model"
   ]
  },
  {
   "cell_type": "code",
   "execution_count": 9,
   "metadata": {
    "collapsed": true
   },
   "outputs": [
    {
     "name": "stdout",
     "output_type": "stream",
     "text": [
      "INFO:tensorflow:Assets written to: predict_churn_tf_model/assets\n"
     ]
    },
    {
     "name": "stderr",
     "output_type": "stream",
     "text": [
      "INFO:tensorflow:Assets written to: predict_churn_tf_model/assets\n"
     ]
    }
   ],
   "source": [
    "# saves your trained TensorFlow model with the filename 'predict_churn_tf_model'\n",
    "model.save('predict_churn_tf_model')\n",
    "\n",
    "# deletes the model object from memory, likely done to release memory resources if you have a large model\n",
    "# del model \n",
    "\n",
    "# loads the previously saved model from memory\n",
    "# model = load_model('predict_churn_tf_model')"
   ]
  }
 ],
 "metadata": {
  "kernelspec": {
   "display_name": "Python 3",
   "language": "python",
   "name": "python3"
  },
  "language_info": {
   "codemirror_mode": {
    "name": "ipython",
    "version": 3
   },
   "file_extension": ".py",
   "mimetype": "text/x-python",
   "name": "python",
   "nbconvert_exporter": "python",
   "pygments_lexer": "ipython3",
   "version": "3.9.6"
  }
 },
 "nbformat": 4,
 "nbformat_minor": 2
}
